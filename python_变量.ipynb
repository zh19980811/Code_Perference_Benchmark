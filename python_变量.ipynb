{
  "nbformat": 4,
  "nbformat_minor": 0,
  "metadata": {
    "colab": {
      "provenance": [],
      "authorship_tag": "ABX9TyMB+FO1eknEA9Vp+/xZK3S5",
      "include_colab_link": true
    },
    "kernelspec": {
      "name": "python3",
      "display_name": "Python 3"
    },
    "language_info": {
      "name": "python"
    }
  },
  "cells": [
    {
      "cell_type": "markdown",
      "metadata": {
        "id": "view-in-github",
        "colab_type": "text"
      },
      "source": [
        "<a href=\"https://colab.research.google.com/github/zh19980811/Code_Perference_Benchmark/blob/main/python_%E5%8F%98%E9%87%8F.ipynb\" target=\"_parent\"><img src=\"https://colab.research.google.com/assets/colab-badge.svg\" alt=\"Open In Colab\"/></a>"
      ]
    },
    {
      "cell_type": "code",
      "execution_count": 1,
      "metadata": {
        "id": "bXl0KKT97etv"
      },
      "outputs": [],
      "source": [
        "import ast\n",
        "\n",
        "class NameExtractor(ast.NodeVisitor):\n",
        "    def __init__(self):\n",
        "        self.names = {\n",
        "            'variables': set(),\n",
        "            'functions': set(),\n",
        "            'classes': set(),\n",
        "            'function_args': set(),\n",
        "            'class_attrs': set(),\n",
        "        }\n",
        "\n",
        "    def visit_FunctionDef(self, node):\n",
        "        self.names['functions'].add(node.name)\n",
        "        for arg in node.args.args:\n",
        "            self.names['function_args'].add(arg.arg)\n",
        "        self.generic_visit(node)\n",
        "\n",
        "    def visit_ClassDef(self, node):\n",
        "        self.names['classes'].add(node.name)\n",
        "        self.generic_visit(node)\n",
        "\n",
        "    def visit_Name(self, node):\n",
        "        # 变量名（可能包括参数、表达式等）\n",
        "        self.names['variables'].add(node.id)\n",
        "        self.generic_visit(node)\n",
        "\n",
        "    def visit_Attribute(self, node):\n",
        "        # 对象的属性（如 self.xxx）\n",
        "        if isinstance(node.value, ast.Name) and node.value.id == 'self':\n",
        "            self.names['class_attrs'].add(node.attr)\n",
        "        self.generic_visit(node)\n",
        "\n",
        "def extract_names_from_code(code):\n",
        "    tree = ast.parse(code)\n",
        "    extractor = NameExtractor()\n",
        "    extractor.visit(tree)\n",
        "    return extractor.names\n"
      ]
    },
    {
      "cell_type": "code",
      "source": [
        "code = '''\n",
        "class MyClass:\n",
        "    def __init__(self, x, y):\n",
        "        self.x = x\n",
        "        self.y = y\n",
        "\n",
        "    def compute(self):\n",
        "        result = self.x + self.y\n",
        "        return result\n",
        "'''\n",
        "\n",
        "names = extract_names_from_code(code)\n",
        "for key, value in names.items():\n",
        "    print(f\"{key}: {value}\")\n"
      ],
      "metadata": {
        "colab": {
          "base_uri": "https://localhost:8080/"
        },
        "id": "lTh6lhMK7mp3",
        "outputId": "3b6155f3-1db4-4a27-e4b7-4f3101bbbbe8"
      },
      "execution_count": 2,
      "outputs": [
        {
          "output_type": "stream",
          "name": "stdout",
          "text": [
            "variables: {'self', 'x', 'y', 'result'}\n",
            "functions: {'__init__', 'compute'}\n",
            "classes: {'MyClass'}\n",
            "function_args: {'self', 'x', 'y'}\n",
            "class_attrs: {'x', 'y'}\n"
          ]
        }
      ]
    }
  ]
}