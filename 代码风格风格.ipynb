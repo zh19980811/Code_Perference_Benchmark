{
  "nbformat": 4,
  "nbformat_minor": 0,
  "metadata": {
    "colab": {
      "provenance": [],
      "authorship_tag": "ABX9TyNAhWg+UkCmDuY3NbIdq7yJ",
      "include_colab_link": true
    },
    "kernelspec": {
      "name": "python3",
      "display_name": "Python 3"
    },
    "language_info": {
      "name": "python"
    }
  },
  "cells": [
    {
      "cell_type": "markdown",
      "metadata": {
        "id": "view-in-github",
        "colab_type": "text"
      },
      "source": [
        "<a href=\"https://colab.research.google.com/github/zh19980811/Code_Perference_Benchmark/blob/main/%E4%BB%A3%E7%A0%81%E9%A3%8E%E6%A0%BC%E9%A3%8E%E6%A0%BC.ipynb\" target=\"_parent\"><img src=\"https://colab.research.google.com/assets/colab-badge.svg\" alt=\"Open In Colab\"/></a>"
      ]
    },
    {
      "cell_type": "code",
      "execution_count": 1,
      "metadata": {
        "id": "OmmzNl47Yv8v"
      },
      "outputs": [],
      "source": [
        "import ast\n",
        "import re\n",
        "\n",
        "# 🟢 工具函数\n",
        "def is_snake_case(name):\n",
        "    return bool(re.fullmatch(r'[a-z_][a-z0-9_]*', name))\n",
        "\n",
        "def count_return_statements(node):\n",
        "    return sum(isinstance(n, ast.Return) for n in ast.walk(node))\n",
        "\n",
        "def has_try_except(node):\n",
        "    return any(isinstance(n, ast.Try) for n in ast.walk(node))\n",
        "\n",
        "def get_call_depth(node, depth=0):\n",
        "    \"\"\"递归计算最大嵌套调用深度\"\"\"\n",
        "    if isinstance(node, ast.Call):\n",
        "        return max([get_call_depth(arg, depth + 1) for arg in ast.iter_child_nodes(node)] + [depth])\n",
        "    else:\n",
        "        return max([get_call_depth(child, depth) for child in ast.iter_child_nodes(node)] + [depth])\n",
        "\n",
        "# 🧠 方法打分主函数\n",
        "def get_function_score(func_node, verbose=False):\n",
        "    score = 0\n",
        "    total = 7\n",
        "    details = {}\n",
        "\n",
        "    # 方法长度\n",
        "    if hasattr(func_node, 'end_lineno'):\n",
        "        length = func_node.end_lineno - func_node.lineno + 1\n",
        "        length_score = 1 if length <= 20 else 0.5 if length <= 50 else 0\n",
        "        score += length_score\n",
        "        details[\"长度\"] = (length, length_score)\n",
        "\n",
        "    # 参数数量\n",
        "    arg_count = len(func_node.args.args)\n",
        "    arg_score = 1 if arg_count <= 3 else 0.5 if arg_count <= 5 else 0\n",
        "    score += arg_score\n",
        "    details[\"参数数\"] = (arg_count, arg_score)\n",
        "\n",
        "    # Docstring\n",
        "    has_doc = ast.get_docstring(func_node) is not None\n",
        "    doc_score = 1 if has_doc else 0\n",
        "    score += doc_score\n",
        "    details[\"docstring\"] = (has_doc, doc_score)\n",
        "\n",
        "    # Try/Except\n",
        "    has_try = has_try_except(func_node)\n",
        "    try_score = 1 if has_try else 0\n",
        "    score += try_score\n",
        "    details[\"异常处理\"] = (has_try, try_score)\n",
        "\n",
        "    # 命名风格\n",
        "    name_ok = is_snake_case(func_node.name)\n",
        "    name_score = 1 if name_ok else 0\n",
        "    score += name_score\n",
        "    details[\"命名规范\"] = (func_node.name, name_score)\n",
        "\n",
        "    # return 数量\n",
        "    return_count = count_return_statements(func_node)\n",
        "    ret_score = 1 if 1 <= return_count <= 3 else 0\n",
        "    score += ret_score\n",
        "    details[\"return数\"] = (return_count, ret_score)\n",
        "\n",
        "    # 调用嵌套深度\n",
        "    max_depth = get_call_depth(func_node)\n",
        "    depth_score = 1 if max_depth <= 3 else 0\n",
        "    score += depth_score\n",
        "    details[\"调用深度\"] = (max_depth, depth_score)\n",
        "\n",
        "    final_score = round((score / total) * 10, 2)\n",
        "\n",
        "    if verbose:\n",
        "        return final_score, details\n",
        "    return final_score\n",
        "\n",
        "# 🚀 主分析函数（输入代码字符串）\n",
        "def analyze_code(code_str, verbose=True):\n",
        "    tree = ast.parse(code_str)\n",
        "    results = []\n",
        "    for node in ast.walk(tree):\n",
        "        if isinstance(node, ast.FunctionDef):\n",
        "            score, details = get_function_score(node, verbose=True)\n",
        "            results.append((node.name, score, details))\n",
        "    return results\n"
      ]
    },
    {
      "cell_type": "code",
      "source": [
        "code = '''\n",
        "def fetch_data(url, retries=3):\n",
        "    \"\"\"Fetch data from the internet.\"\"\"\n",
        "    for _ in range(retries):\n",
        "        try:\n",
        "            response = request.get(url)\n",
        "            return response.json()\n",
        "        except:\n",
        "            continue\n",
        "    return None\n",
        "\n",
        "def badFunctionName(a, b, c, d, e, f):\n",
        "    try:\n",
        "        return a + b + c + d + e + f\n",
        "    except Exception as e:\n",
        "        print(e)\n",
        "'''\n",
        "\n",
        "results = analyze_code(code)\n",
        "\n",
        "# 显示结果\n",
        "for name, score, detail in results:\n",
        "    print(f\"\\n方法名: {name} → 得分: {score}/10\")\n",
        "    for key, (val, s) in detail.items():\n",
        "        print(f\"  {key}: {val} → +{s}\")\n"
      ],
      "metadata": {
        "colab": {
          "base_uri": "https://localhost:8080/"
        },
        "id": "c4fm85CJYzQX",
        "outputId": "869b4e93-bbf9-437b-9485-2b06eb539a13"
      },
      "execution_count": 2,
      "outputs": [
        {
          "output_type": "stream",
          "name": "stdout",
          "text": [
            "\n",
            "方法名: fetch_data → 得分: 10.0/10\n",
            "  长度: 9 → +1\n",
            "  参数数: 2 → +1\n",
            "  docstring: True → +1\n",
            "  异常处理: True → +1\n",
            "  命名规范: fetch_data → +1\n",
            "  return数: 2 → +1\n",
            "  调用深度: 1 → +1\n",
            "\n",
            "方法名: badFunctionName → 得分: 5.71/10\n",
            "  长度: 5 → +1\n",
            "  参数数: 6 → +0\n",
            "  docstring: False → +0\n",
            "  异常处理: True → +1\n",
            "  命名规范: badFunctionName → +0\n",
            "  return数: 1 → +1\n",
            "  调用深度: 1 → +1\n"
          ]
        }
      ]
    }
  ]
}